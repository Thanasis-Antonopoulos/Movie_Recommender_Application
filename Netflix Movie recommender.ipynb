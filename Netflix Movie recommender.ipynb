{
 "cells": [
  {
   "cell_type": "code",
   "execution_count": 1,
   "metadata": {},
   "outputs": [],
   "source": [
    "import time\n",
    "import requests"
   ]
  },
  {
   "cell_type": "code",
   "execution_count": 2,
   "metadata": {},
   "outputs": [],
   "source": [
    "# Your TMDB API key\n",
    "API_KEY = 'Enter your API'\n",
    "BASE_URL = 'https://api.themoviedb.org/3'"
   ]
  },
  {
   "cell_type": "code",
   "execution_count": 3,
   "metadata": {},
   "outputs": [],
   "source": [
    "# Function to display a live countdown timer\n",
    "def countdown_timer(seconds):\n",
    "    while seconds > 0:\n",
    "        mins, secs = divmod(seconds, 60)\n",
    "        timer = f'{mins:02d}:{secs:02d}'\n",
    "        print(f'\\rTime remaining: {timer}', end='')\n",
    "        time.sleep(1)\n",
    "        seconds -= 1\n",
    "    print(\"\\nTime's up!\")"
   ]
  },
  {
   "cell_type": "code",
   "execution_count": 4,
   "metadata": {},
   "outputs": [],
   "source": [
    "# Function to collect up to 10 movies from a user\n",
    "def get_user_movies(user_name):\n",
    "    print(f\"\\n{user_name}, please input up to 10 movies.\")\n",
    "    print(\"Note: Input valid movie names (e.g., 'Inception', not '1nception').\")\n",
    "    print(\"Press Enter on a blank input if you're done adding movies.\")\n",
    "\n",
    "    movies = set()\n",
    "    max_movies = 10\n",
    "    start_time = time.time()\n",
    "\n",
    "    while len(movies) < max_movies and time.time() - start_time < 300:\n",
    "        movie = input(f\"Enter movie name ({len(movies) + 1}/{max_movies}): \").strip()\n",
    "        if not movie:\n",
    "            print(\"\\nYou chose to stop adding movies.\")\n",
    "            break\n",
    "        if movie in movies:\n",
    "            print(\"You've already entered this movie. Please enter a different one.\")\n",
    "        else:\n",
    "            movies.add(movie)\n",
    "    \n",
    "    print(f\"\\n{user_name}, you entered {len(movies)} movies.\")\n",
    "    return list(movies)"
   ]
  },
  {
   "cell_type": "code",
   "execution_count": 5,
   "metadata": {},
   "outputs": [],
   "source": [
    "# Function to search for a movie on TMDB\n",
    "def search_movie(movie_name):\n",
    "    url = f\"{BASE_URL}/search/movie\"\n",
    "    params = {\"api_key\": API_KEY, \"query\": movie_name}\n",
    "    response = requests.get(url, params=params).json()\n",
    "    results = response.get('results', [])\n",
    "    return results[0] if results else None"
   ]
  },
  {
   "cell_type": "code",
   "execution_count": 6,
   "metadata": {},
   "outputs": [],
   "source": [
    "# Function to find similar movies\n",
    "def get_similar_movies(movie_id):\n",
    "    url = f\"{BASE_URL}/movie/{movie_id}/similar\"\n",
    "    params = {\"api_key\": API_KEY}\n",
    "    response = requests.get(url, params=params).json()\n",
    "    return response.get('results', [])"
   ]
  },
  {
   "cell_type": "code",
   "execution_count": 7,
   "metadata": {},
   "outputs": [],
   "source": [
    "# Get recommended movies\n",
    "def recommend_movies(your_movies, gf_movies):\n",
    "    all_movies = set(your_movies + gf_movies)\n",
    "    recommended = set()\n",
    "    recommended_movies = []\n",
    "\n",
    "    for movie in all_movies:\n",
    "        movie_data = search_movie(movie)\n",
    "        if movie_data:\n",
    "            similar_movies = get_similar_movies(movie_data['id'])\n",
    "            for similar_movie in similar_movies:\n",
    "                if similar_movie['id'] not in recommended:\n",
    "                    recommended.add(similar_movie['id'])\n",
    "                    recommended_movies.append(similar_movie)\n",
    "\n",
    "    return recommended_movies"
   ]
  },
  {
   "cell_type": "code",
   "execution_count": 8,
   "metadata": {},
   "outputs": [
    {
     "name": "stdout",
     "output_type": "stream",
     "text": [
      "Welcome to the Movie Recommender!\n",
      "\n",
      "User 1, it's your turn:\n",
      "\n",
      "User 1, please input up to 10 movies.\n",
      "Note: Input valid movie names (e.g., 'Inception', not '1nception').\n",
      "Press Enter on a blank input if you're done adding movies.\n",
      "Enter movie name (1/10): Inception\n",
      "Enter movie name (2/10): Interstellar\n",
      "Enter movie name (3/10): Shutter Island\n",
      "Enter movie name (4/10): The Dark Knight\n",
      "Enter movie name (5/10): Parasite\n",
      "Enter movie name (6/10): \n",
      "\n",
      "You chose to stop adding movies.\n",
      "\n",
      "User 1, you entered 5 movies.\n",
      "\n",
      "User 2, it's your turn:\n",
      "\n",
      "User 2, please input up to 10 movies.\n",
      "Note: Input valid movie names (e.g., 'Inception', not '1nception').\n",
      "Press Enter on a blank input if you're done adding movies.\n",
      "Enter movie name (1/10): The Notebook\n",
      "Enter movie name (2/10): Pride and Prejudice\n",
      "Enter movie name (3/10): La La Land\n",
      "Enter movie name (4/10): Amélie\n",
      "Enter movie name (5/10): 500 Days of Summer\n",
      "Enter movie name (6/10): \n",
      "\n",
      "You chose to stop adding movies.\n",
      "\n",
      "User 2, you entered 5 movies.\n",
      "\n",
      "Top Movie Recommendations:\n",
      "Žena pod křížem - Rating: 10.0 (Votes: 1)\n",
      "The Insomniac - Rating: 10.0 (Votes: 1)\n",
      "The Godfather - Rating: 8.689 (Votes: 20852)\n",
      "The Godfather Part II - Rating: 8.6 (Votes: 12586)\n",
      "Kamen Rider Amazons Season 1 the Movie: Awakening - Rating: 8.6 (Votes: 7)\n"
     ]
    }
   ],
   "source": [
    "# Main\n",
    "if __name__ == \"__main__\":\n",
    "    print(\"Welcome to the Movie Recommender!\")\n",
    "    \n",
    "    print(\"\\nUser 1, it's your turn:\")\n",
    "    your_movies = get_user_movies(\"User 1\")\n",
    "\n",
    "    print(\"\\nUser 2, it's your turn:\")\n",
    "    gf_movies = get_user_movies(\"User 2\")\n",
    "\n",
    "    recommendations = recommend_movies(your_movies, gf_movies)\n",
    "    top_recommendations = sorted(recommendations, key=lambda x: (x['vote_average'], x['vote_count']), reverse=True)[:5]\n",
    "\n",
    "    print(\"\\nTop Movie Recommendations:\")\n",
    "    for movie in top_recommendations:\n",
    "        print(f\"{movie['title']} - Rating: {movie['vote_average']} (Votes: {movie['vote_count']})\")\n"
   ]
  }
 ],
 "metadata": {
  "kernelspec": {
   "display_name": "Python 3",
   "language": "python",
   "name": "python3"
  },
  "language_info": {
   "codemirror_mode": {
    "name": "ipython",
    "version": 3
   },
   "file_extension": ".py",
   "mimetype": "text/x-python",
   "name": "python",
   "nbconvert_exporter": "python",
   "pygments_lexer": "ipython3",
   "version": "3.8.3"
  }
 },
 "nbformat": 4,
 "nbformat_minor": 4
}
